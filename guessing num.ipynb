{
 "cells": [
  {
   "cell_type": "markdown",
   "id": "87b8e960",
   "metadata": {},
   "source": [
    "## Guess the number"
   ]
  },
  {
   "cell_type": "code",
   "execution_count": 1,
   "id": "1fbc4c5a",
   "metadata": {},
   "outputs": [
    {
     "name": "stdout",
     "output_type": "stream",
     "text": [
      "You have a 3 chances..All the best!\n",
      "Guess the number: 2\n",
      "Your guess is incorrect\n",
      "Guess the number: 3\n",
      "Your guess is incorrect\n",
      "Guess the number: 4\n",
      "Hurray!!\n",
      "you guessed the number right it's 4\n",
      "\n",
      "Thanks for playing...the correct number is 4\n"
     ]
    }
   ],
   "source": [
    "import random\n",
    "\n",
    "number = random.randint(1,10)\n",
    "print(\"You have a 3 chances..All the best!\")\n",
    "for i in range(0,3):\n",
    "    user = int(input(\"Guess the number: \"))\n",
    "    if user == number:\n",
    "        print(\"Hurray!!\")\n",
    "        print(f\"you guessed the number right it's {number}\")\n",
    "        break\n",
    "    if user != number:\n",
    "        print(f\"Your guess is incorrect\")\n",
    "        \n",
    "    \n",
    "print(\"\\nThanks for playing...the correct number is\",number)\n",
    "    "
   ]
  },
  {
   "cell_type": "code",
   "execution_count": null,
   "id": "8d81ff6a",
   "metadata": {},
   "outputs": [],
   "source": []
  }
 ],
 "metadata": {
  "kernelspec": {
   "display_name": "Python 3",
   "language": "python",
   "name": "python3"
  },
  "language_info": {
   "codemirror_mode": {
    "name": "ipython",
    "version": 3
   },
   "file_extension": ".py",
   "mimetype": "text/x-python",
   "name": "python",
   "nbconvert_exporter": "python",
   "pygments_lexer": "ipython3",
   "version": "3.8.8"
  }
 },
 "nbformat": 4,
 "nbformat_minor": 5
}
